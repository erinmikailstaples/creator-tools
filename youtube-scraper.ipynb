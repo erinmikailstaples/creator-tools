{
 "cells": [
  {
   "cell_type": "code",
   "execution_count": 23,
   "metadata": {},
   "outputs": [
    {
     "ename": "ImportError",
     "evalue": "cannot import name 'YouTube' from 'pytube' (/Users/erinmikail/Documents/GitHub/creator-tools/pytube.py)",
     "output_type": "error",
     "traceback": [
      "\u001b[0;31m---------------------------------------------------------------------------\u001b[0m",
      "\u001b[0;31mImportError\u001b[0m                               Traceback (most recent call last)",
      "Cell \u001b[0;32mIn[23], line 2\u001b[0m\n\u001b[1;32m      1\u001b[0m \u001b[38;5;28;01mimport\u001b[39;00m\u001b[38;5;250m \u001b[39m\u001b[38;5;21;01mpytube\u001b[39;00m\n\u001b[0;32m----> 2\u001b[0m \u001b[38;5;28;01mfrom\u001b[39;00m\u001b[38;5;250m \u001b[39m\u001b[38;5;21;01mpytube\u001b[39;00m\u001b[38;5;250m \u001b[39m\u001b[38;5;28;01mimport\u001b[39;00m YouTube\n\u001b[1;32m      3\u001b[0m \u001b[38;5;28;01mfrom\u001b[39;00m\u001b[38;5;250m \u001b[39m\u001b[38;5;21;01mpathlib\u001b[39;00m\u001b[38;5;250m \u001b[39m\u001b[38;5;28;01mimport\u001b[39;00m Path\n",
      "\u001b[0;31mImportError\u001b[0m: cannot import name 'YouTube' from 'pytube' (/Users/erinmikail/Documents/GitHub/creator-tools/pytube.py)"
     ]
    }
   ],
   "source": [
    "import pytube\n",
    "from pytube import YouTube\n",
    "from pathlib import Path"
   ]
  },
  {
   "cell_type": "code",
   "execution_count": 17,
   "metadata": {},
   "outputs": [],
   "source": [
    "def download_audio(youtube_url, output_folder=\"downloads\"):\n",
    "    \"\"\"downloads audio from youtube video\"\"\"\n",
    "    try:\n",
    "        # create output folder if it doesn't exist\n",
    "        Path(output_folder).mkdir(parents=True, exist_ok=True)\n",
    "\n",
    "        # create YouTube object\n",
    "        yt = YouTube(youtube_url)\n",
    "\n",
    "        # get the audio stream\n",
    "        audio_stream = yt.streams.filter(only_audio=True).first()\n",
    "\n",
    "        # download the audio\n",
    "        audio_stream.download(output_folder)\n",
    "\n",
    "        # download the audio and capture the output path\n",
    "        output_path = audio_stream.download(output_folder)\n",
    "\n",
    "        print(f\"Download complete ✨✅ audio from {youtube_url} to {output_path}\")\n",
    "    except Exception as e:\n",
    "        print(f\"🚨Error downloading audio from {youtube_url}: {e}\")\n",
    "    \n",
    "        "
   ]
  },
  {
   "cell_type": "code",
   "execution_count": 18,
   "metadata": {},
   "outputs": [
    {
     "name": "stdout",
     "output_type": "stream",
     "text": [
      "🚨Error downloading audio from https://www.youtube.com/watch?v=z7kiQW7w5aw: 'str' object is not callable\n"
     ]
    }
   ],
   "source": [
    "# Example \n",
    "youtube_url = \"https://www.youtube.com/watch?v=z7kiQW7w5aw\"  # Replace with the actual YouTube video URL\n",
    "download_audio(YouTube)"
   ]
  }
 ],
 "metadata": {
  "kernelspec": {
   "display_name": ".venv",
   "language": "python",
   "name": "python3"
  },
  "language_info": {
   "codemirror_mode": {
    "name": "ipython",
    "version": 3
   },
   "file_extension": ".py",
   "mimetype": "text/x-python",
   "name": "python",
   "nbconvert_exporter": "python",
   "pygments_lexer": "ipython3",
   "version": "3.12.8"
  }
 },
 "nbformat": 4,
 "nbformat_minor": 2
}
